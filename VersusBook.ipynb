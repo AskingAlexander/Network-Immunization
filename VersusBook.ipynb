{
 "metadata": {
  "language_info": {
   "codemirror_mode": {
    "name": "ipython",
    "version": 3
   },
   "file_extension": ".py",
   "mimetype": "text/x-python",
   "name": "python",
   "nbconvert_exporter": "python",
   "pygments_lexer": "ipython3",
   "version": "3.8.5"
  },
  "orig_nbformat": 2,
  "kernelspec": {
   "name": "python385jvsc74a57bd0b3ba2566441a7c06988d0923437866b63cedc61552a5af99d1f4fb67d367b25f",
   "display_name": "Python 3.8.5 64-bit ('base': conda)"
  }
 },
 "nbformat": 4,
 "nbformat_minor": 2,
 "cells": [
  {
   "cell_type": "code",
   "execution_count": null,
   "metadata": {},
   "outputs": [],
   "source": [
    "from helpers.runners import run_solver_against_configs\n",
    "from helpers.graph_builder_helpers import load_graph_from_file\n",
    "from helpers.graph_builder_helpers import get_stats_for_nodes\n",
    "from Simulator import *\n",
    "\n",
    "import random\n",
    "import math\n",
    "import os, json\n",
    "import pandas as pd"
   ]
  },
  {
   "cell_type": "code",
   "execution_count": null,
   "metadata": {},
   "outputs": [],
   "source": [
    "def save_list_as_csv(path, items):\n",
    "    with open(path, 'w') as f:\n",
    "        for item in items:\n",
    "            f.write(\"%s \" % item)"
   ]
  },
  {
   "cell_type": "code",
   "execution_count": null,
   "metadata": {},
   "outputs": [],
   "source": [
    "GRAPH_PATH = '[3843][85580]fromData.pkl'\n",
    "FULL_GRAPH_PATH = 'graphs/[3843][85580]fromData.pkl'\n",
    "SEED_FILE = 'versus_seed.csv'\n",
    "FULL_SEED_FILE = 'seeds/versus_seed.csv'\n",
    "\n",
    "simmulations_to_run = 100\n",
    "threads_to_use = 12\n",
    "desired_size_for_candidates = 15\n",
    "nodes_to_pick = 10\n",
    "picks_to_do = 100\n",
    "\n",
    "VERSUS_METHODS = ['SparseShield','Dom']\n",
    "VERSUS_OUT_NODES = 'versus_out/'\n",
    "VERSUS_OUT_RESULTS = 'versus_results/'"
   ]
  },
  {
   "cell_type": "code",
   "execution_count": null,
   "metadata": {},
   "outputs": [],
   "source": [
    "G = load_graph_from_file(FULL_GRAPH_PATH)"
   ]
  },
  {
   "cell_type": "code",
   "execution_count": null,
   "metadata": {},
   "outputs": [],
   "source": [
    "(degrees, max_degree, min_degree, avg_degree) = get_stats_for_nodes(G)"
   ]
  },
  {
   "cell_type": "code",
   "execution_count": null,
   "metadata": {},
   "outputs": [],
   "source": [
    "pick_from = []\n",
    "done = False\n",
    "\n",
    "for degree, nodes in sorted(degrees.items(), key=lambda item: item[0], reverse = True):\n",
    "    if done:\n",
    "        break\n",
    "\n",
    "    for node in nodes:\n",
    "        pick_from.append(node)\n",
    "\n",
    "        if (len(pick_from) == desired_size_for_candidates):\n",
    "            done = True\n",
    "            break"
   ]
  },
  {
   "cell_type": "code",
   "execution_count": null,
   "metadata": {},
   "outputs": [],
   "source": [
    "main_columns = ['id', 'nodes_in_graph', 'edges_in_graph','total_time', 'nodes_to_block', 'simulation_name']\n",
    "secondary_columns = ['simulation_index', 'node']"
   ]
  },
  {
   "cell_type": "code",
   "execution_count": null,
   "metadata": {
    "tags": [
     "outputPrepend"
    ]
   },
   "outputs": [],
   "source": [
    "index = 6001\n",
    "idx = 6001\n",
    "\n",
    "jsons_data = pd.DataFrame(columns=main_columns)\n",
    "json_blocked_data = pd.DataFrame(columns=secondary_columns)\n",
    "\n",
    "for _ in range(picks_to_do):\n",
    "    seeds = list(random.sample(pick_from, nodes_to_pick))\n",
    "\n",
    "    save_list_as_csv(FULL_SEED_FILE, seeds)\n",
    "    run_solver_against_configs(results_path=VERSUS_OUT_NODES, graph_file=GRAPH_PATH, seed_file=SEED_FILE, startNumber=1, endNumber=11, step=1, algorithms_to_run=VERSUS_METHODS, just_solve = True)\n",
    "    sim = Simulator(G, seeds)\n",
    "    run_solver_against_configs(results_path=VERSUS_OUT_NODES, graph_file=GRAPH_PATH, seed_file=SEED_FILE, startNumber=10, endNumber=950, step=100, algorithms_to_run=VERSUS_METHODS, just_solve = True)\n",
    "    sim = Simulator(G, seeds)\n",
    "    \n",
    "    json_files = [pos_json for pos_json in os.listdir(VERSUS_OUT_NODES) if pos_json.endswith('.json')]\n",
    "\n",
    "    for _, file_name in enumerate(json_files):\n",
    "        tokens = file_name.replace('.json', '').split('_')\n",
    "        nodes_to_block = int(tokens[1])\n",
    "        name = tokens[2]\n",
    "        graph_stats = tokens[3].split(']')\n",
    "        num_nodes = int(graph_stats[0].replace('[',''))\n",
    "        num_edges = int(graph_stats[1].replace('[',''))\n",
    "        full_path = os.path.join(VERSUS_OUT_NODES, file_name)\n",
    "\n",
    "        with open(full_path) as json_file:\n",
    "            json_text = json.load(json_file)\n",
    "            jsons_data.loc[index] = [index, num_nodes, num_edges, json_text['Total time'], nodes_to_block, name]\n",
    "            blocked_nodes = json_text['Blocked nodes']\n",
    "            sim.add_blocked(index, blocked_nodes)\n",
    "\n",
    "            for blocked_node in blocked_nodes:\n",
    "                json_blocked_data.loc[idx] = [index, blocked_node]\n",
    "                idx += 1\n",
    "\n",
    "        index += 1\n",
    "        os.remove(full_path)\n",
    "\n",
    "    results = sim.run(simmulations_to_run, threads_to_use)\n",
    "    file_id = 'data' + str(int(index / 2)) + '.json'\n",
    "    out_path = os.path.join(VERSUS_OUT_RESULTS, file_id)\n",
    "    \n",
    "    with open(out_path, 'w') as f:\n",
    "        json.dump(results, f)\n",
    "        \n",
    "\n",
    "jsons_data.to_csv(os.path.join(VERSUS_OUT_RESULTS, 'simulationData.csv'), index=False)\n",
    "json_blocked_data.to_csv(os.path.join(VERSUS_OUT_RESULTS, 'simulationNodes.csv'), index=False)"
   ]
  },
  {
   "cell_type": "code",
   "execution_count": null,
   "metadata": {},
   "outputs": [],
   "source": [
    "json_files = [pos_json for pos_json in os.listdir(VERSUS_OUT_RESULTS) if pos_json.endswith('.json')]\n",
    "sim_data = pd.DataFrame(columns=['simulation_index', 'mean_activated', 'var_activated', 'mean_saved', 'var_saved', 'saved_nodes', 'activated_nodes'])\n",
    "index = 0\n",
    "\n",
    "for _, js in enumerate(json_files):\n",
    "    full_path = os.path.join(VERSUS_OUT_RESULTS, js)\n",
    "\n",
    "    with open(full_path) as json_file:\n",
    "        json_text = json.load(json_file)\n",
    "        for sim_id in json_text['solvers'].keys():\n",
    "            mean_activated = json_text['solvers'][sim_id]['activated nodes']['mean']\n",
    "            var_activated = json_text['solvers'][sim_id]['activated nodes']['var']\n",
    "            mean_saved = json_text['solvers'][sim_id]['saved nodes']['mean']\n",
    "            var_saved = json_text['solvers'][sim_id]['saved nodes']['var']\n",
    "\n",
    "            sim_data.loc[index] = [sim_id, mean_activated, var_activated, mean_saved, mean_activated, int(math.ceil(mean_saved)), int(math.ceil(mean_activated))]\n",
    "            index += 1\n",
    "\n",
    "    os.remove(full_path)\n",
    "\n",
    "sim_data.to_csv(os.path.join(VERSUS_OUT_RESULTS, 'simulationStats.csv'), index=False)"
   ]
  },
  {
   "cell_type": "code",
   "execution_count": null,
   "metadata": {},
   "outputs": [],
   "source": []
  }
 ]
}