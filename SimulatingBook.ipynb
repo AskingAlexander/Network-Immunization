{
 "metadata": {
  "language_info": {
   "codemirror_mode": {
    "name": "ipython",
    "version": 3
   },
   "file_extension": ".py",
   "mimetype": "text/x-python",
   "name": "python",
   "nbconvert_exporter": "python",
   "pygments_lexer": "ipython3",
   "version": "3.8.5-final"
  },
  "orig_nbformat": 2,
  "kernelspec": {
   "name": "python385jvsc74a57bd0b3ba2566441a7c06988d0923437866b63cedc61552a5af99d1f4fb67d367b25f",
   "display_name": "Python 3.8.5 64-bit (conda)"
  }
 },
 "nbformat": 4,
 "nbformat_minor": 2,
 "cells": [
  {
   "cell_type": "code",
   "execution_count": 1,
   "metadata": {},
   "outputs": [],
   "source": [
    "from helpers.graph_builder_helpers import load_graph_from_file\n",
    "from Simulator import *\n",
    "\n",
    "from copy import deepcopy\n",
    "import pandas as pd\n",
    "import json"
   ]
  },
  {
   "cell_type": "code",
   "execution_count": 2,
   "metadata": {},
   "outputs": [],
   "source": [
    "G = load_graph_from_file('graphs/[886460][2794274]fromData.pkl')\n",
    "small_G = load_graph_from_file('graphs/[47154][633217]fromData.pkl')\n",
    "# large_G = load_graph_from_file('graphs/[2789474][4554497]fromData.pkl')"
   ]
  },
  {
   "cell_type": "code",
   "execution_count": 3,
   "metadata": {},
   "outputs": [],
   "source": [
    "seed = [1409798257]\n",
    "small_seed = [2228960582]"
   ]
  },
  {
   "cell_type": "code",
   "execution_count": 12,
   "metadata": {},
   "outputs": [],
   "source": [
    "simmulations_to_run = 1000\n",
    "threads_to_use = 12"
   ]
  },
  {
   "cell_type": "code",
   "execution_count": 5,
   "metadata": {},
   "outputs": [],
   "source": [
    "nodes_df = pd.read_csv('results/simulationNodesFull.csv')\n",
    "nodes_by_simulation = nodes_df.groupby('simulation_index')['node'].apply(list).reset_index(name='blocked_nodes')"
   ]
  },
  {
   "cell_type": "code",
   "execution_count": 13,
   "metadata": {},
   "outputs": [],
   "source": [
    "sim = Simulator(G, seed)\n",
    "small_sim = Simulator(small_G, small_seed)"
   ]
  },
  {
   "cell_type": "code",
   "execution_count": 14,
   "metadata": {
    "tags": []
   },
   "outputs": [],
   "source": [
    "for index, row in nodes_by_simulation.iterrows():\n",
    "    blocked_nodes = row['blocked_nodes']\n",
    "    s_name = row['simulation_index']\n",
    "\n",
    "    tokens = s_name.split('_')\n",
    "    nodes = int(tokens[0])\n",
    "\n",
    "    if nodes == 886460:\n",
    "        sim.add_blocked(s_name, blocked_nodes)\n",
    "    \n",
    "    if nodes == 47154:\n",
    "        small_sim.add_blocked(s_name, blocked_nodes)"
   ]
  },
  {
   "cell_type": "code",
   "execution_count": 9,
   "metadata": {},
   "outputs": [],
   "source": [
    "results = sim.run(simmulations_to_run, threads_to_use)\n",
    "results_small = small_sim.run(simmulations_to_run, threads_to_use)"
   ]
  },
  {
   "cell_type": "code",
   "execution_count": 10,
   "metadata": {},
   "outputs": [],
   "source": [
    "with open('outputs/data.json', 'w') as f:\n",
    "    json.dump(results, f)"
   ]
  },
  {
   "cell_type": "code",
   "execution_count": 11,
   "metadata": {},
   "outputs": [],
   "source": [
    "with open('outputs/data_small.json', 'w') as f:\n",
    "    json.dump(results, f)"
   ]
  },
  {
   "cell_type": "code",
   "execution_count": null,
   "metadata": {},
   "outputs": [],
   "source": []
  }
 ]
}