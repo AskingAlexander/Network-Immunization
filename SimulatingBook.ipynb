{
 "metadata": {
  "language_info": {
   "codemirror_mode": {
    "name": "ipython",
    "version": 3
   },
   "file_extension": ".py",
   "mimetype": "text/x-python",
   "name": "python",
   "nbconvert_exporter": "python",
   "pygments_lexer": "ipython3",
   "version": "3.8.5"
  },
  "orig_nbformat": 2,
  "kernelspec": {
   "name": "python385jvsc74a57bd0b3ba2566441a7c06988d0923437866b63cedc61552a5af99d1f4fb67d367b25f",
   "display_name": "Python 3.8.5 64-bit ('base': conda)"
  }
 },
 "nbformat": 4,
 "nbformat_minor": 2,
 "cells": [
  {
   "cell_type": "code",
   "execution_count": null,
   "metadata": {},
   "outputs": [],
   "source": [
    "from helpers.graph_builder_helpers import load_graph_from_file\n",
    "from Simulator import *\n",
    "\n",
    "from copy import deepcopy\n",
    "import pandas as pd\n",
    "import json"
   ]
  },
  {
   "cell_type": "code",
   "execution_count": null,
   "metadata": {},
   "outputs": [],
   "source": [
    "# G = load_graph_from_file('graphs/[886460][2794274]fromData.pkl')\n",
    "# small_G = load_graph_from_file('graphs/[47154][633217]fromData.pkl')\n",
    "# large_G = load_graph_from_file('graphs/[2789474][4554497]fromData.pkl')\n",
    "\n",
    "our_G = load_graph_from_file('graphs/[3843][85580]fromData.pkl')"
   ]
  },
  {
   "cell_type": "code",
   "execution_count": null,
   "metadata": {},
   "outputs": [],
   "source": [
    "seed = [1409798257]\n",
    "small_seed = [2228960582]\n",
    "\n",
    "our_seed = [2228960582]"
   ]
  },
  {
   "cell_type": "code",
   "execution_count": null,
   "metadata": {},
   "outputs": [],
   "source": [
    "simmulations_to_run = 1000\n",
    "threads_to_use = 22"
   ]
  },
  {
   "cell_type": "code",
   "execution_count": null,
   "metadata": {},
   "outputs": [],
   "source": [
    "nodes_df = pd.read_csv('results/simulationNodes.csv')\n",
    "meta_data_df = pd.read_csv('results/simulationData.csv')\n",
    "nodes_by_simulation = nodes_df.groupby('simulation_index')['node'].apply(list).reset_index(name='blocked_nodes')"
   ]
  },
  {
   "cell_type": "code",
   "execution_count": null,
   "metadata": {},
   "outputs": [],
   "source": [
    "# sim = Simulator(G, seed)\n",
    "# small_sim = Simulator(small_G, small_seed)\n",
    "# big_sim = Simulator(large_G, seed)\n",
    "\n",
    "our_sim = Simulator(our_G, our_seed)"
   ]
  },
  {
   "cell_type": "code",
   "execution_count": null,
   "metadata": {
    "tags": []
   },
   "outputs": [],
   "source": [
    "for index, row in meta_data_df.iterrows():\n",
    "    s_id = row['id']\n",
    "    mask = nodes_by_simulation['simulation_index'] == s_id\n",
    "    blocked_nodes = list(nodes_by_simulation[mask]['blocked_nodes'])[0]\n",
    "    nodes = row['nodes_in_graph']\n",
    "\n",
    "    if nodes == 2789474:\n",
    "        big_sim.add_blocked(s_id, blocked_nodes)\n",
    "        continue\n",
    "\n",
    "    if nodes == 886460:\n",
    "        sim.add_blocked(s_id, blocked_nodes)\n",
    "        continue\n",
    "    \n",
    "    if nodes == 47154:\n",
    "        small_sim.add_blocked(s_id, blocked_nodes)\n",
    "        continue\n",
    "\n",
    "    our_sim.add_blocked(s_id, blocked_nodes)"
   ]
  },
  {
   "cell_type": "code",
   "execution_count": null,
   "metadata": {},
   "outputs": [],
   "source": [
    "results_small = small_sim.run(simmulations_to_run, threads_to_use)\n",
    "with open('outputs/data_small.json', 'w') as f:\n",
    "    json.dump(results_small, f)"
   ]
  },
  {
   "cell_type": "code",
   "execution_count": null,
   "metadata": {},
   "outputs": [],
   "source": [
    "results = sim.run(simmulations_to_run, threads_to_use)\n",
    "with open('outputs/data.json', 'w') as f:\n",
    "    json.dump(results, f)"
   ]
  },
  {
   "cell_type": "code",
   "execution_count": null,
   "metadata": {},
   "outputs": [],
   "source": [
    "results_big = big_sim.run(simmulations_to_run, threads_to_use)\n",
    "with open('outputs/data_big.json', 'w') as f:\n",
    "    json.dump(results_big, f)"
   ]
  },
  {
   "cell_type": "code",
   "execution_count": null,
   "metadata": {},
   "outputs": [],
   "source": [
    "our_results = our_sim.run(simmulations_to_run, threads_to_use)\n",
    "with open('results/current_results.json', 'w') as f:\n",
    "    json.dump(our_results, f)"
   ]
  },
  {
   "cell_type": "code",
   "execution_count": null,
   "metadata": {},
   "outputs": [],
   "source": []
  }
 ]
}