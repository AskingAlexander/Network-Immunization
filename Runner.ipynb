{
 "metadata": {
  "language_info": {
   "codemirror_mode": {
    "name": "ipython",
    "version": 3
   },
   "file_extension": ".py",
   "mimetype": "text/x-python",
   "name": "python",
   "nbconvert_exporter": "python",
   "pygments_lexer": "ipython3",
   "version": "3.8.5"
  },
  "orig_nbformat": 2,
  "kernelspec": {
   "name": "python385jvsc74a57bd0b3ba2566441a7c06988d0923437866b63cedc61552a5af99d1f4fb67d367b25f",
   "display_name": "Python 3.8.5 64-bit ('base': conda)"
  }
 },
 "nbformat": 4,
 "nbformat_minor": 2,
 "cells": [
  {
   "cell_type": "code",
   "execution_count": null,
   "metadata": {},
   "outputs": [],
   "source": [
    "from helpers.runners import run_solver_against_configs\n",
    "from joblib import Parallel, delayed"
   ]
  },
  {
   "cell_type": "code",
   "execution_count": null,
   "metadata": {},
   "outputs": [],
   "source": [
    "def run_to_ten(graph, seed):\n",
    "    run_solver_against_configs(results_path='true_sims/', graph_file=graph, seed_file=seed, startNumber=1, endNumber=11, step=1, just_solve = True)\n",
    "\n",
    "def run_to_one_thousand(graph, seed):\n",
    "    run_solver_against_configs(results_path='true_sims/', graph_file=graph, seed_file=seed, startNumber=100, endNumber=1000, step=100, just_solve = True)\n",
    "\n",
    "def run_to_one_thousand2(graph, seed):\n",
    "    run_solver_against_configs(results_path='true_sims/', graph_file=graph, seed_file=seed, startNumber=25, endNumber=1000, step=100, just_solve = True)\n",
    "\n",
    "def run_to_one_thousand3(graph, seed):\n",
    "    run_solver_against_configs(results_path='true_sims/', graph_file=graph, seed_file=seed, startNumber=50, endNumber=1000, step=100, just_solve = True)\n",
    "\n",
    "def run_to_one_thousand4(graph, seed):\n",
    "    run_solver_against_configs(results_path='true_sims/', graph_file=graph, seed_file=seed, startNumber=75, endNumber=1000, step=100, just_solve = True)"
   ]
  },
  {
   "cell_type": "code",
   "execution_count": null,
   "metadata": {},
   "outputs": [],
   "source": [
    "for (graph, seed) in [('[47154][633217]fromData.pkl', 'seedSmall.csv'), ('[886460][2794274]fromData.pkl', 'seed.csv'), ('[2789474][4554497]fromData.pkl', 'seed.csv')]:\n",
    "    run_to_ten(graph, seed)"
   ]
  },
  {
   "cell_type": "code",
   "execution_count": 2,
   "metadata": {
    "tags": [
     "outputPrepend"
    ]
   },
   "outputs": [
    {
     "output_type": "stream",
     "name": "stdout",
     "text": [
      "17]fromData.json --just_solve 1\n",
      "python run_solver.py graphs/[47154][633217]fromData.pkl seeds/seedSmall.csv 850 SparseShield --outfile sparseshield/result_850_SparseShield_[47154][633217]fromData.json --just_solve 1\n",
      "python run_solver.py graphs/[47154][633217]fromData.pkl seeds/seedSmall.csv 950 SparseShield --outfile sparseshield/result_950_SparseShield_[47154][633217]fromData.json --just_solve 1\n",
      "python run_solver.py graphs/[47154][633217]fromData.pkl seeds/seedSmall.csv 100 SparseShield --outfile sparseshield/result_100_SparseShield_[47154][633217]fromData.json --just_solve 1\n",
      "python run_solver.py graphs/[47154][633217]fromData.pkl seeds/seedSmall.csv 200 SparseShield --outfile sparseshield/result_200_SparseShield_[47154][633217]fromData.json --just_solve 1\n",
      "python run_solver.py graphs/[47154][633217]fromData.pkl seeds/seedSmall.csv 300 SparseShield --outfile sparseshield/result_300_SparseShield_[47154][633217]fromData.json --just_solve 1\n",
      "python run_solver.py graphs/[47154][633217]fromData.pkl seeds/seedSmall.csv 400 SparseShield --outfile sparseshield/result_400_SparseShield_[47154][633217]fromData.json --just_solve 1\n",
      "python run_solver.py graphs/[47154][633217]fromData.pkl seeds/seedSmall.csv 500 SparseShield --outfile sparseshield/result_500_SparseShield_[47154][633217]fromData.json --just_solve 1\n",
      "python run_solver.py graphs/[47154][633217]fromData.pkl seeds/seedSmall.csv 600 SparseShield --outfile sparseshield/result_600_SparseShield_[47154][633217]fromData.json --just_solve 1\n",
      "python run_solver.py graphs/[47154][633217]fromData.pkl seeds/seedSmall.csv 700 SparseShield --outfile sparseshield/result_700_SparseShield_[47154][633217]fromData.json --just_solve 1\n",
      "python run_solver.py graphs/[47154][633217]fromData.pkl seeds/seedSmall.csv 800 SparseShield --outfile sparseshield/result_800_SparseShield_[47154][633217]fromData.json --just_solve 1\n",
      "python run_solver.py graphs/[47154][633217]fromData.pkl seeds/seedSmall.csv 900 SparseShield --outfile sparseshield/result_900_SparseShield_[47154][633217]fromData.json --just_solve 1\n",
      "python run_solver.py graphs/[886460][2794274]fromData.pkl seeds/seed.csv 1 SparseShield --outfile sparseshield/result_1_SparseShield_[886460][2794274]fromData.json --just_solve 1\n",
      "python run_solver.py graphs/[886460][2794274]fromData.pkl seeds/seed.csv 2 SparseShield --outfile sparseshield/result_2_SparseShield_[886460][2794274]fromData.json --just_solve 1\n",
      "python run_solver.py graphs/[886460][2794274]fromData.pkl seeds/seed.csv 3 SparseShield --outfile sparseshield/result_3_SparseShield_[886460][2794274]fromData.json --just_solve 1\n",
      "python run_solver.py graphs/[886460][2794274]fromData.pkl seeds/seed.csv 4 SparseShield --outfile sparseshield/result_4_SparseShield_[886460][2794274]fromData.json --just_solve 1\n",
      "python run_solver.py graphs/[886460][2794274]fromData.pkl seeds/seed.csv 5 SparseShield --outfile sparseshield/result_5_SparseShield_[886460][2794274]fromData.json --just_solve 1\n",
      "python run_solver.py graphs/[886460][2794274]fromData.pkl seeds/seed.csv 6 SparseShield --outfile sparseshield/result_6_SparseShield_[886460][2794274]fromData.json --just_solve 1\n",
      "python run_solver.py graphs/[886460][2794274]fromData.pkl seeds/seed.csv 7 SparseShield --outfile sparseshield/result_7_SparseShield_[886460][2794274]fromData.json --just_solve 1\n",
      "python run_solver.py graphs/[886460][2794274]fromData.pkl seeds/seed.csv 8 SparseShield --outfile sparseshield/result_8_SparseShield_[886460][2794274]fromData.json --just_solve 1\n",
      "python run_solver.py graphs/[886460][2794274]fromData.pkl seeds/seed.csv 9 SparseShield --outfile sparseshield/result_9_SparseShield_[886460][2794274]fromData.json --just_solve 1\n",
      "python run_solver.py graphs/[886460][2794274]fromData.pkl seeds/seed.csv 10 SparseShield --outfile sparseshield/result_10_SparseShield_[886460][2794274]fromData.json --just_solve 1\n",
      "python run_solver.py graphs/[886460][2794274]fromData.pkl seeds/seed.csv 25 SparseShield --outfile sparseshield/result_25_SparseShield_[886460][2794274]fromData.json --just_solve 1\n",
      "python run_solver.py graphs/[886460][2794274]fromData.pkl seeds/seed.csv 125 SparseShield --outfile sparseshield/result_125_SparseShield_[886460][2794274]fromData.json --just_solve 1\n",
      "python run_solver.py graphs/[886460][2794274]fromData.pkl seeds/seed.csv 225 SparseShield --outfile sparseshield/result_225_SparseShield_[886460][2794274]fromData.json --just_solve 1\n",
      "python run_solver.py graphs/[886460][2794274]fromData.pkl seeds/seed.csv 325 SparseShield --outfile sparseshield/result_325_SparseShield_[886460][2794274]fromData.json --just_solve 1\n",
      "python run_solver.py graphs/[886460][2794274]fromData.pkl seeds/seed.csv 425 SparseShield --outfile sparseshield/result_425_SparseShield_[886460][2794274]fromData.json --just_solve 1\n",
      "python run_solver.py graphs/[886460][2794274]fromData.pkl seeds/seed.csv 525 SparseShield --outfile sparseshield/result_525_SparseShield_[886460][2794274]fromData.json --just_solve 1\n",
      "python run_solver.py graphs/[886460][2794274]fromData.pkl seeds/seed.csv 625 SparseShield --outfile sparseshield/result_625_SparseShield_[886460][2794274]fromData.json --just_solve 1\n",
      "python run_solver.py graphs/[886460][2794274]fromData.pkl seeds/seed.csv 725 SparseShield --outfile sparseshield/result_725_SparseShield_[886460][2794274]fromData.json --just_solve 1\n",
      "python run_solver.py graphs/[886460][2794274]fromData.pkl seeds/seed.csv 825 SparseShield --outfile sparseshield/result_825_SparseShield_[886460][2794274]fromData.json --just_solve 1\n",
      "python run_solver.py graphs/[886460][2794274]fromData.pkl seeds/seed.csv 925 SparseShield --outfile sparseshield/result_925_SparseShield_[886460][2794274]fromData.json --just_solve 1\n",
      "python run_solver.py graphs/[886460][2794274]fromData.pkl seeds/seed.csv 75 SparseShield --outfile sparseshield/result_75_SparseShield_[886460][2794274]fromData.json --just_solve 1\n",
      "python run_solver.py graphs/[886460][2794274]fromData.pkl seeds/seed.csv 175 SparseShield --outfile sparseshield/result_175_SparseShield_[886460][2794274]fromData.json --just_solve 1\n",
      "python run_solver.py graphs/[886460][2794274]fromData.pkl seeds/seed.csv 275 SparseShield --outfile sparseshield/result_275_SparseShield_[886460][2794274]fromData.json --just_solve 1\n",
      "python run_solver.py graphs/[886460][2794274]fromData.pkl seeds/seed.csv 375 SparseShield --outfile sparseshield/result_375_SparseShield_[886460][2794274]fromData.json --just_solve 1\n",
      "python run_solver.py graphs/[886460][2794274]fromData.pkl seeds/seed.csv 475 SparseShield --outfile sparseshield/result_475_SparseShield_[886460][2794274]fromData.json --just_solve 1\n",
      "python run_solver.py graphs/[886460][2794274]fromData.pkl seeds/seed.csv 575 SparseShield --outfile sparseshield/result_575_SparseShield_[886460][2794274]fromData.json --just_solve 1\n",
      "python run_solver.py graphs/[886460][2794274]fromData.pkl seeds/seed.csv 675 SparseShield --outfile sparseshield/result_675_SparseShield_[886460][2794274]fromData.json --just_solve 1\n",
      "python run_solver.py graphs/[886460][2794274]fromData.pkl seeds/seed.csv 775 SparseShield --outfile sparseshield/result_775_SparseShield_[886460][2794274]fromData.json --just_solve 1\n",
      "python run_solver.py graphs/[886460][2794274]fromData.pkl seeds/seed.csv 875 SparseShield --outfile sparseshield/result_875_SparseShield_[886460][2794274]fromData.json --just_solve 1\n",
      "python run_solver.py graphs/[886460][2794274]fromData.pkl seeds/seed.csv 975 SparseShield --outfile sparseshield/result_975_SparseShield_[886460][2794274]fromData.json --just_solve 1\n",
      "python run_solver.py graphs/[886460][2794274]fromData.pkl seeds/seed.csv 50 SparseShield --outfile sparseshield/result_50_SparseShield_[886460][2794274]fromData.json --just_solve 1\n",
      "python run_solver.py graphs/[886460][2794274]fromData.pkl seeds/seed.csv 150 SparseShield --outfile sparseshield/result_150_SparseShield_[886460][2794274]fromData.json --just_solve 1\n",
      "python run_solver.py graphs/[886460][2794274]fromData.pkl seeds/seed.csv 250 SparseShield --outfile sparseshield/result_250_SparseShield_[886460][2794274]fromData.json --just_solve 1\n",
      "python run_solver.py graphs/[886460][2794274]fromData.pkl seeds/seed.csv 350 SparseShield --outfile sparseshield/result_350_SparseShield_[886460][2794274]fromData.json --just_solve 1\n",
      "python run_solver.py graphs/[886460][2794274]fromData.pkl seeds/seed.csv 450 SparseShield --outfile sparseshield/result_450_SparseShield_[886460][2794274]fromData.json --just_solve 1\n",
      "python run_solver.py graphs/[886460][2794274]fromData.pkl seeds/seed.csv 550 SparseShield --outfile sparseshield/result_550_SparseShield_[886460][2794274]fromData.json --just_solve 1\n",
      "python run_solver.py graphs/[886460][2794274]fromData.pkl seeds/seed.csv 650 SparseShield --outfile sparseshield/result_650_SparseShield_[886460][2794274]fromData.json --just_solve 1\n",
      "python run_solver.py graphs/[886460][2794274]fromData.pkl seeds/seed.csv 750 SparseShield --outfile sparseshield/result_750_SparseShield_[886460][2794274]fromData.json --just_solve 1\n",
      "python run_solver.py graphs/[886460][2794274]fromData.pkl seeds/seed.csv 850 SparseShield --outfile sparseshield/result_850_SparseShield_[886460][2794274]fromData.json --just_solve 1\n",
      "python run_solver.py graphs/[886460][2794274]fromData.pkl seeds/seed.csv 950 SparseShield --outfile sparseshield/result_950_SparseShield_[886460][2794274]fromData.json --just_solve 1\n",
      "python run_solver.py graphs/[886460][2794274]fromData.pkl seeds/seed.csv 100 SparseShield --outfile sparseshield/result_100_SparseShield_[886460][2794274]fromData.json --just_solve 1\n",
      "python run_solver.py graphs/[886460][2794274]fromData.pkl seeds/seed.csv 200 SparseShield --outfile sparseshield/result_200_SparseShield_[886460][2794274]fromData.json --just_solve 1\n",
      "python run_solver.py graphs/[886460][2794274]fromData.pkl seeds/seed.csv 300 SparseShield --outfile sparseshield/result_300_SparseShield_[886460][2794274]fromData.json --just_solve 1\n",
      "python run_solver.py graphs/[886460][2794274]fromData.pkl seeds/seed.csv 400 SparseShield --outfile sparseshield/result_400_SparseShield_[886460][2794274]fromData.json --just_solve 1\n",
      "python run_solver.py graphs/[886460][2794274]fromData.pkl seeds/seed.csv 500 SparseShield --outfile sparseshield/result_500_SparseShield_[886460][2794274]fromData.json --just_solve 1\n",
      "python run_solver.py graphs/[886460][2794274]fromData.pkl seeds/seed.csv 600 SparseShield --outfile sparseshield/result_600_SparseShield_[886460][2794274]fromData.json --just_solve 1\n",
      "python run_solver.py graphs/[886460][2794274]fromData.pkl seeds/seed.csv 700 SparseShield --outfile sparseshield/result_700_SparseShield_[886460][2794274]fromData.json --just_solve 1\n",
      "python run_solver.py graphs/[886460][2794274]fromData.pkl seeds/seed.csv 800 SparseShield --outfile sparseshield/result_800_SparseShield_[886460][2794274]fromData.json --just_solve 1\n",
      "python run_solver.py graphs/[886460][2794274]fromData.pkl seeds/seed.csv 900 SparseShield --outfile sparseshield/result_900_SparseShield_[886460][2794274]fromData.json --just_solve 1\n",
      "python run_solver.py graphs/[2789474][4554497]fromData.pkl seeds/seed.csv 1 SparseShield --outfile sparseshield/result_1_SparseShield_[2789474][4554497]fromData.json --just_solve 1\n",
      "python run_solver.py graphs/[2789474][4554497]fromData.pkl seeds/seed.csv 2 SparseShield --outfile sparseshield/result_2_SparseShield_[2789474][4554497]fromData.json --just_solve 1\n",
      "python run_solver.py graphs/[2789474][4554497]fromData.pkl seeds/seed.csv 3 SparseShield --outfile sparseshield/result_3_SparseShield_[2789474][4554497]fromData.json --just_solve 1\n",
      "python run_solver.py graphs/[2789474][4554497]fromData.pkl seeds/seed.csv 4 SparseShield --outfile sparseshield/result_4_SparseShield_[2789474][4554497]fromData.json --just_solve 1\n",
      "python run_solver.py graphs/[2789474][4554497]fromData.pkl seeds/seed.csv 5 SparseShield --outfile sparseshield/result_5_SparseShield_[2789474][4554497]fromData.json --just_solve 1\n",
      "python run_solver.py graphs/[2789474][4554497]fromData.pkl seeds/seed.csv 6 SparseShield --outfile sparseshield/result_6_SparseShield_[2789474][4554497]fromData.json --just_solve 1\n",
      "python run_solver.py graphs/[2789474][4554497]fromData.pkl seeds/seed.csv 7 SparseShield --outfile sparseshield/result_7_SparseShield_[2789474][4554497]fromData.json --just_solve 1\n",
      "python run_solver.py graphs/[2789474][4554497]fromData.pkl seeds/seed.csv 8 SparseShield --outfile sparseshield/result_8_SparseShield_[2789474][4554497]fromData.json --just_solve 1\n",
      "python run_solver.py graphs/[2789474][4554497]fromData.pkl seeds/seed.csv 9 SparseShield --outfile sparseshield/result_9_SparseShield_[2789474][4554497]fromData.json --just_solve 1\n",
      "python run_solver.py graphs/[2789474][4554497]fromData.pkl seeds/seed.csv 10 SparseShield --outfile sparseshield/result_10_SparseShield_[2789474][4554497]fromData.json --just_solve 1\n",
      "python run_solver.py graphs/[2789474][4554497]fromData.pkl seeds/seed.csv 25 SparseShield --outfile sparseshield/result_25_SparseShield_[2789474][4554497]fromData.json --just_solve 1\n",
      "python run_solver.py graphs/[2789474][4554497]fromData.pkl seeds/seed.csv 125 SparseShield --outfile sparseshield/result_125_SparseShield_[2789474][4554497]fromData.json --just_solve 1\n",
      "python run_solver.py graphs/[2789474][4554497]fromData.pkl seeds/seed.csv 225 SparseShield --outfile sparseshield/result_225_SparseShield_[2789474][4554497]fromData.json --just_solve 1\n",
      "python run_solver.py graphs/[2789474][4554497]fromData.pkl seeds/seed.csv 325 SparseShield --outfile sparseshield/result_325_SparseShield_[2789474][4554497]fromData.json --just_solve 1\n",
      "python run_solver.py graphs/[2789474][4554497]fromData.pkl seeds/seed.csv 425 SparseShield --outfile sparseshield/result_425_SparseShield_[2789474][4554497]fromData.json --just_solve 1\n",
      "python run_solver.py graphs/[2789474][4554497]fromData.pkl seeds/seed.csv 525 SparseShield --outfile sparseshield/result_525_SparseShield_[2789474][4554497]fromData.json --just_solve 1\n",
      "python run_solver.py graphs/[2789474][4554497]fromData.pkl seeds/seed.csv 625 SparseShield --outfile sparseshield/result_625_SparseShield_[2789474][4554497]fromData.json --just_solve 1\n",
      "python run_solver.py graphs/[2789474][4554497]fromData.pkl seeds/seed.csv 725 SparseShield --outfile sparseshield/result_725_SparseShield_[2789474][4554497]fromData.json --just_solve 1\n",
      "python run_solver.py graphs/[2789474][4554497]fromData.pkl seeds/seed.csv 825 SparseShield --outfile sparseshield/result_825_SparseShield_[2789474][4554497]fromData.json --just_solve 1\n",
      "python run_solver.py graphs/[2789474][4554497]fromData.pkl seeds/seed.csv 925 SparseShield --outfile sparseshield/result_925_SparseShield_[2789474][4554497]fromData.json --just_solve 1\n",
      "python run_solver.py graphs/[2789474][4554497]fromData.pkl seeds/seed.csv 75 SparseShield --outfile sparseshield/result_75_SparseShield_[2789474][4554497]fromData.json --just_solve 1\n",
      "python run_solver.py graphs/[2789474][4554497]fromData.pkl seeds/seed.csv 175 SparseShield --outfile sparseshield/result_175_SparseShield_[2789474][4554497]fromData.json --just_solve 1\n",
      "python run_solver.py graphs/[2789474][4554497]fromData.pkl seeds/seed.csv 275 SparseShield --outfile sparseshield/result_275_SparseShield_[2789474][4554497]fromData.json --just_solve 1\n",
      "python run_solver.py graphs/[2789474][4554497]fromData.pkl seeds/seed.csv 375 SparseShield --outfile sparseshield/result_375_SparseShield_[2789474][4554497]fromData.json --just_solve 1\n",
      "python run_solver.py graphs/[2789474][4554497]fromData.pkl seeds/seed.csv 475 SparseShield --outfile sparseshield/result_475_SparseShield_[2789474][4554497]fromData.json --just_solve 1\n",
      "python run_solver.py graphs/[2789474][4554497]fromData.pkl seeds/seed.csv 575 SparseShield --outfile sparseshield/result_575_SparseShield_[2789474][4554497]fromData.json --just_solve 1\n",
      "python run_solver.py graphs/[2789474][4554497]fromData.pkl seeds/seed.csv 675 SparseShield --outfile sparseshield/result_675_SparseShield_[2789474][4554497]fromData.json --just_solve 1\n",
      "python run_solver.py graphs/[2789474][4554497]fromData.pkl seeds/seed.csv 775 SparseShield --outfile sparseshield/result_775_SparseShield_[2789474][4554497]fromData.json --just_solve 1\n",
      "python run_solver.py graphs/[2789474][4554497]fromData.pkl seeds/seed.csv 875 SparseShield --outfile sparseshield/result_875_SparseShield_[2789474][4554497]fromData.json --just_solve 1\n",
      "python run_solver.py graphs/[2789474][4554497]fromData.pkl seeds/seed.csv 975 SparseShield --outfile sparseshield/result_975_SparseShield_[2789474][4554497]fromData.json --just_solve 1\n",
      "python run_solver.py graphs/[2789474][4554497]fromData.pkl seeds/seed.csv 50 SparseShield --outfile sparseshield/result_50_SparseShield_[2789474][4554497]fromData.json --just_solve 1\n",
      "python run_solver.py graphs/[2789474][4554497]fromData.pkl seeds/seed.csv 150 SparseShield --outfile sparseshield/result_150_SparseShield_[2789474][4554497]fromData.json --just_solve 1\n",
      "python run_solver.py graphs/[2789474][4554497]fromData.pkl seeds/seed.csv 250 SparseShield --outfile sparseshield/result_250_SparseShield_[2789474][4554497]fromData.json --just_solve 1\n",
      "python run_solver.py graphs/[2789474][4554497]fromData.pkl seeds/seed.csv 350 SparseShield --outfile sparseshield/result_350_SparseShield_[2789474][4554497]fromData.json --just_solve 1\n",
      "python run_solver.py graphs/[2789474][4554497]fromData.pkl seeds/seed.csv 450 SparseShield --outfile sparseshield/result_450_SparseShield_[2789474][4554497]fromData.json --just_solve 1\n",
      "python run_solver.py graphs/[2789474][4554497]fromData.pkl seeds/seed.csv 550 SparseShield --outfile sparseshield/result_550_SparseShield_[2789474][4554497]fromData.json --just_solve 1\n",
      "python run_solver.py graphs/[2789474][4554497]fromData.pkl seeds/seed.csv 650 SparseShield --outfile sparseshield/result_650_SparseShield_[2789474][4554497]fromData.json --just_solve 1\n",
      "python run_solver.py graphs/[2789474][4554497]fromData.pkl seeds/seed.csv 750 SparseShield --outfile sparseshield/result_750_SparseShield_[2789474][4554497]fromData.json --just_solve 1\n",
      "python run_solver.py graphs/[2789474][4554497]fromData.pkl seeds/seed.csv 850 SparseShield --outfile sparseshield/result_850_SparseShield_[2789474][4554497]fromData.json --just_solve 1\n",
      "python run_solver.py graphs/[2789474][4554497]fromData.pkl seeds/seed.csv 950 SparseShield --outfile sparseshield/result_950_SparseShield_[2789474][4554497]fromData.json --just_solve 1\n",
      "python run_solver.py graphs/[2789474][4554497]fromData.pkl seeds/seed.csv 100 SparseShield --outfile sparseshield/result_100_SparseShield_[2789474][4554497]fromData.json --just_solve 1\n",
      "python run_solver.py graphs/[2789474][4554497]fromData.pkl seeds/seed.csv 200 SparseShield --outfile sparseshield/result_200_SparseShield_[2789474][4554497]fromData.json --just_solve 1\n",
      "python run_solver.py graphs/[2789474][4554497]fromData.pkl seeds/seed.csv 300 SparseShield --outfile sparseshield/result_300_SparseShield_[2789474][4554497]fromData.json --just_solve 1\n",
      "python run_solver.py graphs/[2789474][4554497]fromData.pkl seeds/seed.csv 400 SparseShield --outfile sparseshield/result_400_SparseShield_[2789474][4554497]fromData.json --just_solve 1\n",
      "python run_solver.py graphs/[2789474][4554497]fromData.pkl seeds/seed.csv 500 SparseShield --outfile sparseshield/result_500_SparseShield_[2789474][4554497]fromData.json --just_solve 1\n",
      "python run_solver.py graphs/[2789474][4554497]fromData.pkl seeds/seed.csv 600 SparseShield --outfile sparseshield/result_600_SparseShield_[2789474][4554497]fromData.json --just_solve 1\n",
      "python run_solver.py graphs/[2789474][4554497]fromData.pkl seeds/seed.csv 700 SparseShield --outfile sparseshield/result_700_SparseShield_[2789474][4554497]fromData.json --just_solve 1\n",
      "python run_solver.py graphs/[2789474][4554497]fromData.pkl seeds/seed.csv 800 SparseShield --outfile sparseshield/result_800_SparseShield_[2789474][4554497]fromData.json --just_solve 1\n",
      "python run_solver.py graphs/[2789474][4554497]fromData.pkl seeds/seed.csv 900 SparseShield --outfile sparseshield/result_900_SparseShield_[2789474][4554497]fromData.json --just_solve 1\n"
     ]
    }
   ],
   "source": [
    "for (graph, seed) in [('[47154][633217]fromData.pkl', 'seedSmall.csv'), ('[886460][2794274]fromData.pkl', 'seed.csv'), ('[2789474][4554497]fromData.pkl', 'seed.csv')]:\n",
    "    run_solver_against_configs(results_path='sparseshield/', graph_file=graph, seed_file=seed, startNumber=1, endNumber=11, step=1, algorithms_to_run=['SparseShield'], just_solve=True)\n",
    "    run_solver_against_configs(results_path='sparseshield/', graph_file=graph, seed_file=seed, startNumber=25, endNumber=1000, step=100, algorithms_to_run=['SparseShield'], just_solve=True)\n",
    "    run_solver_against_configs(results_path='sparseshield/', graph_file=graph, seed_file=seed, startNumber=75, endNumber=1000, step=100, algorithms_to_run=['SparseShield'], just_solve=True)\n",
    "    run_solver_against_configs(results_path='sparseshield/', graph_file=graph, seed_file=seed, startNumber=50, endNumber=1000, step=100, algorithms_to_run=['SparseShield'], just_solve=True)\n",
    "    run_solver_against_configs(results_path='sparseshield/', graph_file=graph, seed_file=seed, startNumber=100, endNumber=1000, step=100, algorithms_to_run=['SparseShield'], just_solve=True)"
   ]
  },
  {
   "cell_type": "code",
   "execution_count": null,
   "metadata": {},
   "outputs": [],
   "source": []
  }
 ]
}