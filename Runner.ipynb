{
 "metadata": {
  "language_info": {
   "codemirror_mode": {
    "name": "ipython",
    "version": 3
   },
   "file_extension": ".py",
   "mimetype": "text/x-python",
   "name": "python",
   "nbconvert_exporter": "python",
   "pygments_lexer": "ipython3",
   "version": "3.8.5"
  },
  "orig_nbformat": 2,
  "kernelspec": {
   "name": "python385jvsc74a57bd0b3ba2566441a7c06988d0923437866b63cedc61552a5af99d1f4fb67d367b25f",
   "display_name": "Python 3.8.5 64-bit ('base': conda)"
  }
 },
 "nbformat": 4,
 "nbformat_minor": 2,
 "cells": [
  {
   "cell_type": "code",
   "execution_count": null,
   "metadata": {},
   "outputs": [],
   "source": [
    "from helpers.runners import run_solver_against_configs\n",
    "from joblib import Parallel, delayed"
   ]
  },
  {
   "cell_type": "code",
   "execution_count": null,
   "metadata": {},
   "outputs": [],
   "source": [
    "def run_to_ten(graph, seed):\n",
    "    run_solver_against_configs(results_path='true_sims/', graph_file=graph, seed_file=seed, startNumber=1, endNumber=11, step=1, just_solve = True)\n",
    "\n",
    "def run_to_one_thousand(graph, seed):\n",
    "    run_solver_against_configs(results_path='true_sims/', graph_file=graph, seed_file=seed, startNumber=100, endNumber=1000, step=100, just_solve = True)\n",
    "\n",
    "def run_to_one_thousand2(graph, seed):\n",
    "    run_solver_against_configs(results_path='true_sims/', graph_file=graph, seed_file=seed, startNumber=25, endNumber=1000, step=100, just_solve = True)\n",
    "\n",
    "def run_to_one_thousand3(graph, seed):\n",
    "    run_solver_against_configs(results_path='true_sims/', graph_file=graph, seed_file=seed, startNumber=50, endNumber=1000, step=100, just_solve = True)\n",
    "\n",
    "def run_to_one_thousand4(graph, seed):\n",
    "    run_solver_against_configs(results_path='true_sims/', graph_file=graph, seed_file=seed, startNumber=75, endNumber=1000, step=100, just_solve = True)"
   ]
  },
  {
   "cell_type": "code",
   "execution_count": null,
   "metadata": {},
   "outputs": [],
   "source": [
    "for (graph, seed) in [('[47154][633217]fromData.pkl', 'seedSmall.csv'), ('[886460][2794274]fromData.pkl', 'seed.csv'), ('[2789474][4554497]fromData.pkl', 'seed.csv')]:\n",
    "    run_to_ten(graph, seed)"
   ]
  },
  {
   "cell_type": "code",
   "execution_count": null,
   "metadata": {
    "tags": [
     "outputPrepend"
    ]
   },
   "outputs": [],
   "source": [
    "for (graph, seed) in [('[47154][633217]fromData.pkl', 'seedSmall.csv'), ('[886460][2794274]fromData.pkl', 'seed.csv'), ('[2789474][4554497]fromData.pkl', 'seed.csv')]:\n",
    "    run_solver_against_configs(results_path='true_sims/', graph_file=graph, seed_file=seed, startNumber=1, endNumber=11, step=1, just_solve = True)"
   ]
  },
  {
   "cell_type": "code",
   "execution_count": null,
   "metadata": {},
   "outputs": [],
   "source": [
    "for (graph, seed) in [('[3843][85580]fromData.pkl', 'seedSmall.csv'), ('[47154][633217]fromData.pkl', 'seedSmall.csv'), ('[886460][2794274]fromData.pkl', 'seed.csv'), ('[2789474][4554497]fromData.pkl', 'seed.csv')]:\r\n",
    "    run_solver_against_configs(results_path='results/', graph_file=graph, seed_file=seed, startNumber=1, endNumber=2, step=1, just_solve = True, algorithms_to_run=['NetShield','SparseShield'])"
   ]
  },
  {
   "cell_type": "code",
   "execution_count": null,
   "metadata": {},
   "outputs": [],
   "source": []
  }
 ]
}