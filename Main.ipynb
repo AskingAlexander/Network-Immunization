{
 "metadata": {
  "language_info": {
   "codemirror_mode": {
    "name": "ipython",
    "version": 3
   },
   "file_extension": ".py",
   "mimetype": "text/x-python",
   "name": "python",
   "nbconvert_exporter": "python",
   "pygments_lexer": "ipython3",
   "version": "3.8.5"
  },
  "orig_nbformat": 2,
  "kernelspec": {
   "name": "python385jvsc74a57bd0b3ba2566441a7c06988d0923437866b63cedc61552a5af99d1f4fb67d367b25f",
   "display_name": "Python 3.8.5 64-bit ('base': conda)"
  }
 },
 "nbformat": 4,
 "nbformat_minor": 2,
 "cells": [
  {
   "cell_type": "code",
   "execution_count": 1,
   "metadata": {},
   "outputs": [],
   "source": [
    "from helpers.graph_builder_helpers import generate_graph_from_files, load_graph_from_file, save_graph_to_file, save_graph_named_by_size\n",
    "from helpers.graph_builder_helpers import get_stats_for_nodes, analyze_graph, print_stats\n",
    "from helpers.runners import run_solver_against_configs\n",
    "from helpers.twitter_followers import get_followers_for_user"
   ]
  },
  {
   "cell_type": "code",
   "execution_count": 2,
   "metadata": {},
   "outputs": [],
   "source": [
    "from copy import deepcopy\n",
    "import itertools"
   ]
  },
  {
   "cell_type": "code",
   "execution_count": null,
   "metadata": {},
   "outputs": [],
   "source": [
    "graph_dump_path = 'fromData.pkl'\n",
    "small_graph_dump_path = 'fromDataSmall.pkl'\n",
    "cleaned_graph_dump_path = 'fromDataAndCleaned.pkl'\n",
    "data_folder = '../GraphStructure'"
   ]
  },
  {
   "cell_type": "code",
   "execution_count": 3,
   "metadata": {},
   "outputs": [],
   "source": [
    "# G = generate_graph_from_files(data_folder, graph_dump_path)\n",
    "G = load_graph_from_file('graphs/[47154][633217]fromData.pkl')"
   ]
  },
  {
   "cell_type": "code",
   "execution_count": null,
   "metadata": {},
   "outputs": [],
   "source": [
    "# save_graph_named_by_size(G, graph_dump_path)"
   ]
  },
  {
   "cell_type": "code",
   "execution_count": 113,
   "metadata": {},
   "outputs": [],
   "source": [
    "high_ration = 0.8\n",
    "avg_ratio = 0.2\n",
    "low_ratio = 7.5\n",
    "above_avg_ratio = 1.1"
   ]
  },
  {
   "cell_type": "code",
   "execution_count": 125,
   "metadata": {
    "tags": []
   },
   "outputs": [],
   "source": [
    "(degrees, max_degree, min_degree, avg_degree) = get_stats_for_nodes(G)\n",
    "(high_degree_count, low_degree_count, avg_degree_count, nodes_above_avg_degree_count) = analyze_graph(degrees, max_degree, min_degree, avg_degree, high_ration, low_ratio, avg_ratio, above_avg_ratio)"
   ]
  },
  {
   "cell_type": "code",
   "execution_count": 126,
   "metadata": {},
   "outputs": [
    {
     "output_type": "stream",
     "name": "stdout",
     "text": [
      "The root will be  [1305904514487083008]\n"
     ]
    }
   ],
   "source": [
    "print(\"The root will be \", degrees[int(max_degree)])"
   ]
  },
  {
   "cell_type": "code",
   "execution_count": 127,
   "metadata": {},
   "outputs": [
    {
     "output_type": "stream",
     "name": "stdout",
     "text": [
      "10 nodes having the degree at least  0.8  of the maximum degree which is 494.0\n111 nodes having the degree at most  7.5  of the minimum degree which is 1.0\n90 nodes having the degree at around  0.2  of the avg degree which is 137.7111111111111\n102 nodes having the degree at least 1.1  of the avg degree which is 151.48222222222222\n3843 nodes in total\n"
     ]
    }
   ],
   "source": [
    "print_stats(high_degree_count, low_degree_count, avg_degree_count, nodes_above_avg_degree_count, high_ration, low_ratio, avg_ratio, above_avg_ratio, max_degree, min_degree, avg_degree, G)"
   ]
  },
  {
   "cell_type": "code",
   "execution_count": 117,
   "metadata": {},
   "outputs": [
    {
     "output_type": "stream",
     "name": "stdout",
     "text": [
      "11585\n"
     ]
    }
   ],
   "source": [
    "nodes_to_cut = list(itertools.chain.from_iterable([nodes for (degree, nodes) in degrees.items() if (degree < low_ratio * min_degree)]))\n",
    "print(len(nodes_to_cut))"
   ]
  },
  {
   "cell_type": "code",
   "execution_count": 118,
   "metadata": {},
   "outputs": [],
   "source": [
    "small_G = deepcopy(G)\n",
    "small_G.remove_nodes_from(nodes_to_cut)"
   ]
  },
  {
   "cell_type": "code",
   "execution_count": 123,
   "metadata": {},
   "outputs": [],
   "source": [
    "small_G = deepcopy(G)\n",
    "small_G.remove_nodes_from(degrees[0])"
   ]
  },
  {
   "cell_type": "code",
   "execution_count": 124,
   "metadata": {},
   "outputs": [],
   "source": [
    "G = deepcopy(small_G)"
   ]
  },
  {
   "cell_type": "code",
   "execution_count": 128,
   "metadata": {},
   "outputs": [],
   "source": [
    "save_graph_named_by_size(G, '')"
   ]
  },
  {
   "cell_type": "code",
   "execution_count": null,
   "metadata": {
    "tags": [
     "outputPrepend"
    ]
   },
   "outputs": [],
   "source": [
    "(small_degrees, small_max_degree, small_min_degree, small_avg_degree) = get_stats_for_nodes(small_G)\n",
    "(small_high_degree_count, small_low_degree_count, small_avg_degree_count, small_nodes_above_avg_degree_count) = analyze_graph(small_degrees, small_max_degree, small_min_degree, small_avg_degree, high_ration, low_ratio, avg_ratio, above_avg_ratio)"
   ]
  },
  {
   "cell_type": "code",
   "execution_count": 21,
   "metadata": {},
   "outputs": [
    {
     "output_type": "stream",
     "name": "stdout",
     "text": [
      "1 nodes having the degree at least  0.8  of the maximum degree which is 43813.0\n76518 nodes having the degree at most  1.2  of the minimum degree which is 1.0\n154 nodes having the degree at around  0.2  of the avg degree which is 769.4699074074074\n213 nodes having the degree at least 1.1  of the avg degree which is 846.4168981481482\n886460 nodes in total\n"
     ]
    }
   ],
   "source": [
    "print_stats(small_high_degree_count, small_low_degree_count, small_avg_degree_count, small_nodes_above_avg_degree_count, high_ration, low_ratio, avg_ratio, above_avg_ratio, small_max_degree, small_min_degree, small_avg_degree, small_G)"
   ]
  },
  {
   "cell_type": "code",
   "execution_count": 22,
   "metadata": {},
   "outputs": [
    {
     "output_type": "stream",
     "name": "stdout",
     "text": [
      "The root will be  [1409798257]\n"
     ]
    }
   ],
   "source": [
    "print(\"The root will be \", small_degrees[int(small_max_degree)])"
   ]
  },
  {
   "cell_type": "code",
   "execution_count": 23,
   "metadata": {},
   "outputs": [],
   "source": [
    "save_graph_named_by_size(small_G, graph_dump_path)"
   ]
  },
  {
   "cell_type": "code",
   "execution_count": null,
   "metadata": {},
   "outputs": [],
   "source": [
    "run_solver_against_configs(results_path = '/', graph_file = '[886460][2794274]fromData.pkl', startNumber = 10, endNumber = 1000, step = 10, algorithms_to_run = ['Dom', 'Random', 'Degree'])"
   ]
  },
  {
   "cell_type": "code",
   "execution_count": 4,
   "metadata": {},
   "outputs": [
    {
     "output_type": "stream",
     "name": "stdout",
     "text": [
      "Updated file: [118725][1071050]fromData.pkl\n",
      "Updated file: [208702][1392677]fromData.pkl\n",
      "Updated file: [2789474][4554497]fromData.pkl\n",
      "Updated file: [47154][633217]fromData.pkl\n",
      "Updated file: [57676][698104]fromData.pkl\n",
      "Updated file: [886460][2794274]fromData.pkl\n"
     ]
    }
   ],
   "source": [
    "import os\n",
    "for graph_file in os.listdir('graphs/noPasive/'):\n",
    "    \n",
    "    G = load_graph_from_file('graphs/noPasive/' + graph_file)\n",
    "\n",
    "    for (node, neighbor) in G.edges:\n",
    "        try:\n",
    "            G[node][neighbor]['weight'] += 0.5\n",
    "        except:\n",
    "            G[node][neighbor]['weight'] = 0.5\n",
    "            print('Addig:',node,neighbor)\n",
    "\n",
    "    save_graph_named_by_size(G, '', 'graphs/withPasive/' + graph_file)\n",
    "\n",
    "    print('Updated file:', graph_file)     \n"
   ]
  },
  {
   "cell_type": "code",
   "execution_count": null,
   "metadata": {},
   "outputs": [],
   "source": []
  }
 ]
}