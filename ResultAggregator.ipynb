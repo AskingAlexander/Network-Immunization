{
 "metadata": {
  "language_info": {
   "codemirror_mode": {
    "name": "ipython",
    "version": 3
   },
   "file_extension": ".py",
   "mimetype": "text/x-python",
   "name": "python",
   "nbconvert_exporter": "python",
   "pygments_lexer": "ipython3",
   "version": "3.8.5-final"
  },
  "orig_nbformat": 2,
  "kernelspec": {
   "name": "python385jvsc74a57bd0b3ba2566441a7c06988d0923437866b63cedc61552a5af99d1f4fb67d367b25f",
   "display_name": "Python 3.8.5 64-bit (conda)"
  }
 },
 "nbformat": 4,
 "nbformat_minor": 2,
 "cells": [
  {
   "cell_type": "code",
   "execution_count": 2,
   "metadata": {},
   "outputs": [],
   "source": [
    "num_nodes = 886460\n",
    "num_edges = 2794274"
   ]
  },
  {
   "cell_type": "code",
   "execution_count": 3,
   "metadata": {},
   "outputs": [],
   "source": [
    "import os, json\n",
    "import pandas as pd\n",
    "import math"
   ]
  },
  {
   "cell_type": "code",
   "execution_count": 4,
   "metadata": {},
   "outputs": [],
   "source": [
    "# this finds our json files\n",
    "path_to_json = 'results/'\n",
    "json_files = [pos_json for pos_json in os.listdir(path_to_json) if pos_json.endswith('.json')]"
   ]
  },
  {
   "cell_type": "code",
   "execution_count": 1,
   "metadata": {},
   "outputs": [
    {
     "output_type": "error",
     "ename": "NameError",
     "evalue": "name 'pd' is not defined",
     "traceback": [
      "\u001b[1;31m---------------------------------------------------------------------------\u001b[0m",
      "\u001b[1;31mNameError\u001b[0m                                 Traceback (most recent call last)",
      "\u001b[1;32m<ipython-input-1-8ca9b23710cd>\u001b[0m in \u001b[0;36m<module>\u001b[1;34m\u001b[0m\n\u001b[0;32m      1\u001b[0m \u001b[1;31m# here I define my pandas Dataframe with the columns I want to get from the json\u001b[0m\u001b[1;33m\u001b[0m\u001b[1;33m\u001b[0m\u001b[1;33m\u001b[0m\u001b[0m\n\u001b[1;32m----> 2\u001b[1;33m \u001b[0mjsons_data\u001b[0m \u001b[1;33m=\u001b[0m \u001b[0mpd\u001b[0m\u001b[1;33m.\u001b[0m\u001b[0mDataFrame\u001b[0m\u001b[1;33m(\u001b[0m\u001b[0mcolumns\u001b[0m\u001b[1;33m=\u001b[0m\u001b[1;33m[\u001b[0m\u001b[1;34m'id'\u001b[0m\u001b[1;33m,\u001b[0m \u001b[1;34m'nodes_in_graph'\u001b[0m\u001b[1;33m,\u001b[0m \u001b[1;34m'edges_in_graph'\u001b[0m\u001b[1;33m,\u001b[0m\u001b[1;34m'total_time'\u001b[0m\u001b[1;33m,\u001b[0m \u001b[1;34m'nodes_to_block'\u001b[0m\u001b[1;33m,\u001b[0m \u001b[1;34m'simulation_name'\u001b[0m\u001b[1;33m,\u001b[0m \u001b[1;34m'mean_activated'\u001b[0m\u001b[1;33m,\u001b[0m \u001b[1;34m'var_activated'\u001b[0m\u001b[1;33m,\u001b[0m \u001b[1;34m'mean_saved'\u001b[0m\u001b[1;33m,\u001b[0m \u001b[1;34m'var_saved'\u001b[0m\u001b[1;33m,\u001b[0m \u001b[1;34m'saved_nodes'\u001b[0m\u001b[1;33m,\u001b[0m \u001b[1;34m'activated_nodes'\u001b[0m\u001b[1;33m,\u001b[0m \u001b[1;34m'ratio'\u001b[0m\u001b[1;33m]\u001b[0m\u001b[1;33m)\u001b[0m\u001b[1;33m\u001b[0m\u001b[1;33m\u001b[0m\u001b[0m\n\u001b[0m\u001b[0;32m      3\u001b[0m \u001b[0mjson_blocked_data\u001b[0m \u001b[1;33m=\u001b[0m \u001b[0mpd\u001b[0m\u001b[1;33m.\u001b[0m\u001b[0mDataFrame\u001b[0m\u001b[1;33m(\u001b[0m\u001b[0mcolumns\u001b[0m\u001b[1;33m=\u001b[0m\u001b[1;33m[\u001b[0m\u001b[1;34m'simulation_index'\u001b[0m\u001b[1;33m,\u001b[0m \u001b[1;34m'node'\u001b[0m\u001b[1;33m]\u001b[0m\u001b[1;33m)\u001b[0m\u001b[1;33m\u001b[0m\u001b[1;33m\u001b[0m\u001b[0m\n\u001b[0;32m      4\u001b[0m \u001b[0midx\u001b[0m \u001b[1;33m=\u001b[0m \u001b[1;36m0\u001b[0m\u001b[1;33m\u001b[0m\u001b[1;33m\u001b[0m\u001b[0m\n\u001b[0;32m      5\u001b[0m \u001b[1;33m\u001b[0m\u001b[0m\n",
      "\u001b[1;31mNameError\u001b[0m: name 'pd' is not defined"
     ]
    }
   ],
   "source": [
    "# here I define my pandas Dataframe with the columns I want to get from the json\n",
    "jsons_data = pd.DataFrame(columns=['id', 'nodes_in_graph', 'edges_in_graph','total_time', 'nodes_to_block', 'simulation_name', 'mean_activated', 'var_activated', 'mean_saved', 'var_saved', 'saved_nodes', 'activated_nodes', 'ratio'])\n",
    "json_blocked_data = pd.DataFrame(columns=['simulation_index', 'node'])\n",
    "idx = 0\n",
    "\n",
    "# we need both the json and an index number so use enumerate()\n",
    "for index, js in enumerate(json_files):\n",
    "    tokens = js.replace('.json', '').split('_')\n",
    "    nodes_to_block = int(tokens[1])\n",
    "    name = tokens[2]\n",
    "\n",
    "    with open(os.path.join(path_to_json, js)) as json_file:\n",
    "        json_text = json.load(json_file)       \n",
    "        saved = int(math.ceil(json_text['simulation']['saved nodes']['mean']))\n",
    "        activated = json_text['simulation']['activated nodes']['mean']\n",
    "        experiment_id = str(num_nodes) + '_' + str(num_edges) + '_'  + str(index)\n",
    "\n",
    "        jsons_data.loc[index] = [experiment_id, num_nodes, num_edges, json_text['Total time'], nodes_to_block, name, json_text['simulation']['activated nodes']['mean'], json_text['simulation']['activated nodes']['var'], json_text['simulation']['saved nodes']['mean'], json_text['simulation']['saved nodes']['var'], saved, activated, ((saved + 0.0) / (activated + 0.0))]\n",
    "\n",
    "        for blocked_node in json_text['Blocked nodes']:\n",
    "            json_blocked_data.loc[idx] = [experiment_id, blocked_node]\n",
    "            idx += 1"
   ]
  },
  {
   "cell_type": "code",
   "execution_count": 18,
   "metadata": {},
   "outputs": [],
   "source": [
    "jsons_data.to_csv('simulationData.csv', index=False)\n",
    "json_blocked_data.to_csv('simulationNodes.csv', index=False)"
   ]
  },
  {
   "cell_type": "code",
   "execution_count": null,
   "metadata": {},
   "outputs": [],
   "source": []
  }
 ]
}