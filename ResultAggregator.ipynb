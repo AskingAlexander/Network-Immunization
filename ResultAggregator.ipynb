{
 "metadata": {
  "language_info": {
   "codemirror_mode": {
    "name": "ipython",
    "version": 3
   },
   "file_extension": ".py",
   "mimetype": "text/x-python",
   "name": "python",
   "nbconvert_exporter": "python",
   "pygments_lexer": "ipython3",
   "version": "3.8.5-final"
  },
  "orig_nbformat": 2,
  "kernelspec": {
   "name": "python385jvsc74a57bd0b3ba2566441a7c06988d0923437866b63cedc61552a5af99d1f4fb67d367b25f",
   "display_name": "Python 3.8.5 64-bit (conda)"
  }
 },
 "nbformat": 4,
 "nbformat_minor": 2,
 "cells": [
  {
   "cell_type": "code",
   "execution_count": 2,
   "metadata": {},
   "outputs": [],
   "source": [
    "num_nodes = 886460\n",
    "num_edges = 2794274"
   ]
  },
  {
   "cell_type": "code",
   "execution_count": 1,
   "metadata": {},
   "outputs": [],
   "source": [
    "import os, json\n",
    "import pandas as pd\n",
    "import math"
   ]
  },
  {
   "cell_type": "code",
   "execution_count": 4,
   "metadata": {},
   "outputs": [],
   "source": [
    "# this finds our json files\n",
    "path_to_json = 'results/'\n",
    "json_files = [pos_json for pos_json in os.listdir(path_to_json) if pos_json.endswith('.json')]"
   ]
  },
  {
   "cell_type": "code",
   "execution_count": 1,
   "metadata": {},
   "outputs": [
    {
     "output_type": "error",
     "ename": "NameError",
     "evalue": "name 'pd' is not defined",
     "traceback": [
      "\u001b[1;31m---------------------------------------------------------------------------\u001b[0m",
      "\u001b[1;31mNameError\u001b[0m                                 Traceback (most recent call last)",
      "\u001b[1;32m<ipython-input-1-8ca9b23710cd>\u001b[0m in \u001b[0;36m<module>\u001b[1;34m\u001b[0m\n\u001b[0;32m      1\u001b[0m \u001b[1;31m# here I define my pandas Dataframe with the columns I want to get from the json\u001b[0m\u001b[1;33m\u001b[0m\u001b[1;33m\u001b[0m\u001b[1;33m\u001b[0m\u001b[0m\n\u001b[1;32m----> 2\u001b[1;33m \u001b[0mjsons_data\u001b[0m \u001b[1;33m=\u001b[0m \u001b[0mpd\u001b[0m\u001b[1;33m.\u001b[0m\u001b[0mDataFrame\u001b[0m\u001b[1;33m(\u001b[0m\u001b[0mcolumns\u001b[0m\u001b[1;33m=\u001b[0m\u001b[1;33m[\u001b[0m\u001b[1;34m'id'\u001b[0m\u001b[1;33m,\u001b[0m \u001b[1;34m'nodes_in_graph'\u001b[0m\u001b[1;33m,\u001b[0m \u001b[1;34m'edges_in_graph'\u001b[0m\u001b[1;33m,\u001b[0m\u001b[1;34m'total_time'\u001b[0m\u001b[1;33m,\u001b[0m \u001b[1;34m'nodes_to_block'\u001b[0m\u001b[1;33m,\u001b[0m \u001b[1;34m'simulation_name'\u001b[0m\u001b[1;33m,\u001b[0m \u001b[1;34m'mean_activated'\u001b[0m\u001b[1;33m,\u001b[0m \u001b[1;34m'var_activated'\u001b[0m\u001b[1;33m,\u001b[0m \u001b[1;34m'mean_saved'\u001b[0m\u001b[1;33m,\u001b[0m \u001b[1;34m'var_saved'\u001b[0m\u001b[1;33m,\u001b[0m \u001b[1;34m'saved_nodes'\u001b[0m\u001b[1;33m,\u001b[0m \u001b[1;34m'activated_nodes'\u001b[0m\u001b[1;33m,\u001b[0m \u001b[1;34m'ratio'\u001b[0m\u001b[1;33m]\u001b[0m\u001b[1;33m)\u001b[0m\u001b[1;33m\u001b[0m\u001b[1;33m\u001b[0m\u001b[0m\n\u001b[0m\u001b[0;32m      3\u001b[0m \u001b[0mjson_blocked_data\u001b[0m \u001b[1;33m=\u001b[0m \u001b[0mpd\u001b[0m\u001b[1;33m.\u001b[0m\u001b[0mDataFrame\u001b[0m\u001b[1;33m(\u001b[0m\u001b[0mcolumns\u001b[0m\u001b[1;33m=\u001b[0m\u001b[1;33m[\u001b[0m\u001b[1;34m'simulation_index'\u001b[0m\u001b[1;33m,\u001b[0m \u001b[1;34m'node'\u001b[0m\u001b[1;33m]\u001b[0m\u001b[1;33m)\u001b[0m\u001b[1;33m\u001b[0m\u001b[1;33m\u001b[0m\u001b[0m\n\u001b[0;32m      4\u001b[0m \u001b[0midx\u001b[0m \u001b[1;33m=\u001b[0m \u001b[1;36m0\u001b[0m\u001b[1;33m\u001b[0m\u001b[1;33m\u001b[0m\u001b[0m\n\u001b[0;32m      5\u001b[0m \u001b[1;33m\u001b[0m\u001b[0m\n",
      "\u001b[1;31mNameError\u001b[0m: name 'pd' is not defined"
     ]
    }
   ],
   "source": [
    "# here I define my pandas Dataframe with the columns I want to get from the json\n",
    "jsons_data = pd.DataFrame(columns=['id', 'nodes_in_graph', 'edges_in_graph','total_time', 'nodes_to_block', 'simulation_name', , 'ratio'])\n",
    "json_blocked_data = pd.DataFrame(columns=['simulation_index', 'node'])\n",
    "idx = 0\n",
    "\n",
    "# we need both the json and an index number so use enumerate()\n",
    "for index, js in enumerate(json_files):\n",
    "    tokens = js.replace('.json', '').split('_')\n",
    "    nodes_to_block = int(tokens[1])\n",
    "    name = tokens[2]\n",
    "\n",
    "    with open(os.path.join(path_to_json, js)) as json_file:\n",
    "        json_text = json.load(json_file)       \n",
    "        saved = int(math.ceil(json_text['simulation']['saved nodes']['mean']))\n",
    "        activated = json_text['simulation']['activated nodes']['mean']\n",
    "        experiment_id = str(num_nodes) + '_' + str(num_edges) + '_'  + str(index)\n",
    "\n",
    "        jsons_data.loc[index] = [experiment_id, num_nodes, num_edges, json_text['Total time'], nodes_to_block, name, json_text['simulation']['activated nodes']['mean'], json_text['simulation']['activated nodes']['var'], json_text['simulation']['saved nodes']['mean'], json_text['simulation']['saved nodes']['var'], saved, activated, ((saved + 0.0) / (activated + 0.0))]\n",
    "\n",
    "        for blocked_node in json_text['Blocked nodes']:\n",
    "            json_blocked_data.loc[idx] = [experiment_id, blocked_node]\n",
    "            idx += 1"
   ]
  },
  {
   "cell_type": "code",
   "execution_count": 17,
   "metadata": {},
   "outputs": [
    {
     "output_type": "error",
     "ename": "NameError",
     "evalue": "name 'jsons_data' is not defined",
     "traceback": [
      "\u001b[1;31m---------------------------------------------------------------------------\u001b[0m",
      "\u001b[1;31mNameError\u001b[0m                                 Traceback (most recent call last)",
      "\u001b[1;32m<ipython-input-17-5e6bcdcf2e4a>\u001b[0m in \u001b[0;36m<module>\u001b[1;34m\u001b[0m\n\u001b[1;32m----> 1\u001b[1;33m \u001b[0mjsons_data\u001b[0m\u001b[1;33m.\u001b[0m\u001b[0mto_csv\u001b[0m\u001b[1;33m(\u001b[0m\u001b[1;34m'simulationData.csv'\u001b[0m\u001b[1;33m,\u001b[0m \u001b[0mindex\u001b[0m\u001b[1;33m=\u001b[0m\u001b[1;32mFalse\u001b[0m\u001b[1;33m)\u001b[0m\u001b[1;33m\u001b[0m\u001b[1;33m\u001b[0m\u001b[0m\n\u001b[0m\u001b[0;32m      2\u001b[0m \u001b[0mjson_blocked_data\u001b[0m\u001b[1;33m.\u001b[0m\u001b[0mto_csv\u001b[0m\u001b[1;33m(\u001b[0m\u001b[1;34m'simulationNodes.csv'\u001b[0m\u001b[1;33m,\u001b[0m \u001b[0mindex\u001b[0m\u001b[1;33m=\u001b[0m\u001b[1;32mFalse\u001b[0m\u001b[1;33m)\u001b[0m\u001b[1;33m\u001b[0m\u001b[1;33m\u001b[0m\u001b[0m\n",
      "\u001b[1;31mNameError\u001b[0m: name 'jsons_data' is not defined"
     ]
    }
   ],
   "source": [
    "jsons_data.to_csv('simulationData.csv', index=False)\n",
    "json_blocked_data.to_csv('simulationNodes.csv', index=False)"
   ]
  },
  {
   "cell_type": "code",
   "execution_count": 18,
   "metadata": {},
   "outputs": [],
   "source": [
    "path_to_json = 'outputs/'\n",
    "json_files = [pos_json for pos_json in os.listdir(path_to_json) if pos_json.endswith('.json')]"
   ]
  },
  {
   "cell_type": "code",
   "execution_count": 19,
   "metadata": {},
   "outputs": [],
   "source": [
    "sim_data = pd.DataFrame(columns=['simulation_index', 'mean_activated', 'var_activated', 'mean_saved', 'var_saved', 'saved_nodes', 'activated_nodes'])"
   ]
  },
  {
   "cell_type": "code",
   "execution_count": 20,
   "metadata": {},
   "outputs": [
    {
     "output_type": "stream",
     "name": "stdout",
     "text": [
      "886460_2794274_0\n",
      "886460_2794274_1\n",
      "886460_2794274_10\n",
      "886460_2794274_11\n",
      "886460_2794274_12\n",
      "886460_2794274_13\n",
      "886460_2794274_14\n",
      "886460_2794274_15\n",
      "886460_2794274_16\n",
      "886460_2794274_17\n",
      "886460_2794274_18\n",
      "886460_2794274_19\n",
      "886460_2794274_2\n",
      "886460_2794274_20\n",
      "886460_2794274_21\n",
      "886460_2794274_22\n",
      "886460_2794274_23\n",
      "886460_2794274_24\n",
      "886460_2794274_25\n",
      "886460_2794274_26\n",
      "886460_2794274_27\n",
      "886460_2794274_28\n",
      "886460_2794274_29\n",
      "886460_2794274_3\n",
      "886460_2794274_30\n",
      "886460_2794274_31\n",
      "886460_2794274_32\n",
      "886460_2794274_33\n",
      "886460_2794274_34\n",
      "886460_2794274_35\n",
      "886460_2794274_36\n",
      "886460_2794274_37\n",
      "886460_2794274_38\n",
      "886460_2794274_39\n",
      "886460_2794274_4\n",
      "886460_2794274_40\n",
      "886460_2794274_41\n",
      "886460_2794274_42\n",
      "886460_2794274_43\n",
      "886460_2794274_44\n",
      "886460_2794274_45\n",
      "886460_2794274_46\n",
      "886460_2794274_47\n",
      "886460_2794274_48\n",
      "886460_2794274_49\n",
      "886460_2794274_5\n",
      "886460_2794274_50\n",
      "886460_2794274_51\n",
      "886460_2794274_6\n",
      "886460_2794274_7\n",
      "886460_2794274_8\n",
      "886460_2794274_9\n",
      "47154_633217_0\n",
      "47154_633217_1\n",
      "47154_633217_10\n",
      "47154_633217_100\n",
      "47154_633217_101\n",
      "47154_633217_102\n",
      "47154_633217_103\n",
      "47154_633217_104\n",
      "47154_633217_105\n",
      "47154_633217_106\n",
      "47154_633217_107\n",
      "47154_633217_108\n",
      "47154_633217_109\n",
      "47154_633217_11\n",
      "47154_633217_110\n",
      "47154_633217_12\n",
      "47154_633217_13\n",
      "47154_633217_15\n",
      "47154_633217_16\n",
      "47154_633217_17\n",
      "47154_633217_18\n",
      "47154_633217_19\n",
      "47154_633217_2\n",
      "47154_633217_20\n",
      "47154_633217_21\n",
      "47154_633217_22\n",
      "47154_633217_24\n",
      "47154_633217_25\n",
      "47154_633217_26\n",
      "47154_633217_27\n",
      "47154_633217_28\n",
      "47154_633217_29\n",
      "47154_633217_3\n",
      "47154_633217_30\n",
      "47154_633217_31\n",
      "47154_633217_32\n",
      "47154_633217_33\n",
      "47154_633217_34\n",
      "47154_633217_35\n",
      "47154_633217_37\n",
      "47154_633217_38\n",
      "47154_633217_39\n",
      "47154_633217_4\n",
      "47154_633217_40\n",
      "47154_633217_41\n",
      "47154_633217_42\n",
      "47154_633217_43\n",
      "47154_633217_44\n",
      "47154_633217_45\n",
      "47154_633217_46\n",
      "47154_633217_47\n",
      "47154_633217_48\n",
      "47154_633217_49\n",
      "47154_633217_5\n",
      "47154_633217_50\n",
      "47154_633217_51\n",
      "47154_633217_52\n",
      "47154_633217_53\n",
      "47154_633217_54\n",
      "47154_633217_55\n",
      "47154_633217_56\n",
      "47154_633217_57\n",
      "47154_633217_58\n",
      "47154_633217_59\n",
      "47154_633217_6\n",
      "47154_633217_60\n",
      "47154_633217_61\n",
      "47154_633217_62\n",
      "47154_633217_63\n",
      "47154_633217_64\n",
      "47154_633217_65\n",
      "47154_633217_66\n",
      "47154_633217_67\n",
      "47154_633217_68\n",
      "47154_633217_69\n",
      "47154_633217_7\n",
      "47154_633217_70\n",
      "47154_633217_71\n",
      "47154_633217_72\n",
      "47154_633217_73\n",
      "47154_633217_74\n",
      "47154_633217_75\n",
      "47154_633217_76\n",
      "47154_633217_77\n",
      "47154_633217_78\n",
      "47154_633217_79\n",
      "47154_633217_8\n",
      "47154_633217_80\n",
      "47154_633217_81\n",
      "47154_633217_82\n",
      "47154_633217_83\n",
      "47154_633217_84\n",
      "47154_633217_85\n",
      "47154_633217_86\n",
      "47154_633217_87\n",
      "47154_633217_88\n",
      "47154_633217_89\n",
      "47154_633217_9\n",
      "47154_633217_90\n",
      "47154_633217_91\n",
      "47154_633217_92\n",
      "47154_633217_93\n",
      "47154_633217_94\n",
      "47154_633217_95\n",
      "47154_633217_96\n",
      "47154_633217_97\n",
      "47154_633217_98\n",
      "47154_633217_99\n"
     ]
    }
   ],
   "source": [
    "index = 1\n",
    "for index, js in enumerate(json_files):\n",
    "    with open(os.path.join(path_to_json, js)) as json_file:\n",
    "        json_text = json.load(json_file)\n",
    "        for sim_id in json_text['solvers'].keys():\n",
    "            mean_activated = json_text['solvers'][sim_id]['activated nodes']['mean']\n",
    "            var_activated = json_text['solvers'][sim_id]['activated nodes']['var']\n",
    "            mean_saved = json_text['solvers'][sim_id]['saved nodes']['mean']\n",
    "            var_saved = json_text['solvers'][sim_id]['saved nodes']['var']\n",
    "            print(sim_id)\n",
    "\n",
    "            sim_data.loc[index] = [sim_id, mean_activated, var_activated, mean_saved, mean_activated, int(math.ceil(mean_saved)), int(math.ceil(var_saved))]\n",
    "            index += 1"
   ]
  },
  {
   "cell_type": "code",
   "execution_count": 21,
   "metadata": {},
   "outputs": [],
   "source": [
    "sim_data.to_csv('simulationStatsFull.csv', index=False)"
   ]
  },
  {
   "cell_type": "code",
   "execution_count": null,
   "metadata": {},
   "outputs": [],
   "source": []
  }
 ]
}