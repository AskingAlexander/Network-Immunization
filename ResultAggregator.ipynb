{
 "metadata": {
  "language_info": {
   "codemirror_mode": {
    "name": "ipython",
    "version": 3
   },
   "file_extension": ".py",
   "mimetype": "text/x-python",
   "name": "python",
   "nbconvert_exporter": "python",
   "pygments_lexer": "ipython3",
   "version": "3.8.5"
  },
  "orig_nbformat": 2,
  "kernelspec": {
   "name": "python385jvsc74a57bd0b3ba2566441a7c06988d0923437866b63cedc61552a5af99d1f4fb67d367b25f",
   "display_name": "Python 3.8.5 64-bit ('base': conda)"
  }
 },
 "nbformat": 4,
 "nbformat_minor": 2,
 "cells": [
  {
   "cell_type": "code",
   "execution_count": null,
   "metadata": {},
   "outputs": [],
   "source": [
    "import os, json\n",
    "import pandas as pd\n",
    "import math"
   ]
  },
  {
   "cell_type": "code",
   "execution_count": null,
   "metadata": {},
   "outputs": [],
   "source": [
    "num_nodes = 886460\n",
    "num_edges = 2794274"
   ]
  },
  {
   "cell_type": "code",
   "execution_count": null,
   "metadata": {},
   "outputs": [],
   "source": [
    "# this finds our json files\n",
    "path_to_json = 'results/'\n",
    "json_files = [pos_json for pos_json in os.listdir(path_to_json) if pos_json.endswith('.json')]"
   ]
  },
  {
   "cell_type": "code",
   "execution_count": null,
   "metadata": {},
   "outputs": [],
   "source": [
    "# here I define my pandas Dataframe with the columns I want to get from the json\n",
    "jsons_data = pd.DataFrame(columns=['id', 'nodes_in_graph', 'edges_in_graph','total_time', 'nodes_to_block', 'simulation_name'])\n",
    "json_blocked_data = pd.DataFrame(columns=['simulation_index', 'node'])\n",
    "idx = 0\n",
    "offset = 737\n",
    "\n",
    "# we need both the json and an index number so use enumerate()\n",
    "for index, file_name in enumerate(json_files):\n",
    "    tokens = file_name.replace('.json', '').split('_')\n",
    "    nodes_to_block = int(tokens[1])\n",
    "    name = tokens[2]\n",
    "    graph_stats = tokens[3].split(']')\n",
    "    num_nodes = int(graph_stats[0].replace('[',''))\n",
    "    num_edges = int(graph_stats[1].replace('[',''))\n",
    "\n",
    "    with open(os.path.join(path_to_json, file_name)) as json_file:\n",
    "        json_text = json.load(json_file)\n",
    "        jsons_data.loc[index] = [index + offset, num_nodes, num_edges, json_text['Total time'], nodes_to_block, name]\n",
    "\n",
    "        for blocked_node in json_text['Blocked nodes']:\n",
    "            json_blocked_data.loc[idx] = [index + offset, blocked_node]\n",
    "            idx += 1"
   ]
  },
  {
   "cell_type": "code",
   "execution_count": null,
   "metadata": {},
   "outputs": [],
   "source": [
    "jsons_data.to_csv('results/simulationData.csv', index=False)\n",
    "json_blocked_data.to_csv('results/simulationNodes.csv', index=False)"
   ]
  },
  {
   "cell_type": "code",
   "execution_count": null,
   "metadata": {},
   "outputs": [],
   "source": [
    "path_to_json = 'outputs/'\n",
    "json_files = [pos_json for pos_json in os.listdir(path_to_json) if pos_json.endswith('.json')]"
   ]
  },
  {
   "cell_type": "code",
   "execution_count": null,
   "metadata": {},
   "outputs": [],
   "source": [
    "sim_data = pd.DataFrame(columns=['simulation_index', 'mean_activated', 'var_activated', 'mean_saved', 'var_saved', 'saved_nodes', 'activated_nodes'])"
   ]
  },
  {
   "cell_type": "code",
   "execution_count": null,
   "metadata": {},
   "outputs": [],
   "source": [
    "index = 0\n",
    "for _, js in enumerate(json_files):\n",
    "    with open(os.path.join(path_to_json, js)) as json_file:\n",
    "        json_text = json.load(json_file)\n",
    "        for sim_id in json_text['solvers'].keys():\n",
    "            mean_activated = json_text['solvers'][sim_id]['activated nodes']['mean']\n",
    "            var_activated = json_text['solvers'][sim_id]['activated nodes']['var']\n",
    "            mean_saved = json_text['solvers'][sim_id]['saved nodes']['mean']\n",
    "            var_saved = json_text['solvers'][sim_id]['saved nodes']['var']\n",
    "\n",
    "            sim_data.loc[index] = [sim_id, mean_activated, var_activated, mean_saved, mean_activated, int(math.ceil(mean_saved)), int(math.ceil(mean_activated))]\n",
    "            index += 1"
   ]
  },
  {
   "cell_type": "code",
   "execution_count": null,
   "metadata": {},
   "outputs": [],
   "source": [
    "sim_data.to_csv('results/simulationStats.csv', index=False)"
   ]
  },
  {
   "cell_type": "code",
   "execution_count": null,
   "metadata": {},
   "outputs": [],
   "source": []
  }
 ]
}